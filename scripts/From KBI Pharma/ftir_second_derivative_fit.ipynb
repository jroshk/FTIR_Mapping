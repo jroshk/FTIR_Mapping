{
 "cells": [
  {
   "cell_type": "code",
   "execution_count": 3,
   "metadata": {},
   "outputs": [],
   "source": [
    "import pandas as pd\n",
    "from ftir.modeling.buffer_subtraction import find_buffer_subtraction_constant, buffer_subtract\n",
    "from ftir.modeling.peak_fitting import gaussian_fit\n",
    "from ftir.io.utils import create_df_from_single_file"
   ]
  },
  {
   "cell_type": "code",
   "execution_count": 4,
   "metadata": {},
   "outputs": [],
   "source": [
    "# get some data\n",
    "raw_data_filename = \"ExampleBSA_IgG1_2ndDer_AmideI.csv\"\n",
    "directory = \"/home/jyoung/Devel/ftir_data_analytics/tests/data/\"\n",
    "rawData_df = pd.read_csv(directory + raw_data_filename)\n",
    "proteins = list(rawData_df.columns)[1:]"
   ]
  },
  {
   "cell_type": "code",
   "execution_count": 5,
   "metadata": {},
   "outputs": [
    {
     "ename": "ValueError",
     "evalue": "The array returned by a function changed size between calls",
     "traceback": [
      "\u001b[0;31m---------------------------------------------------------------------------\u001b[0m",
      "\u001b[0;31mValueError\u001b[0m                                Traceback (most recent call last)",
      "\u001b[0;32m<ipython-input-5-d03773bff780>\u001b[0m in \u001b[0;36m<module>\u001b[0;34m\u001b[0m\n\u001b[1;32m     10\u001b[0m \u001b[0;32mfor\u001b[0m \u001b[0mi\u001b[0m \u001b[0;32min\u001b[0m \u001b[0mproteins\u001b[0m\u001b[0;34m:\u001b[0m\u001b[0;34m\u001b[0m\u001b[0m\n\u001b[1;32m     11\u001b[0m     \u001b[0mcurrent_df\u001b[0m \u001b[0;34m=\u001b[0m \u001b[0mrawData_df\u001b[0m\u001b[0;34m[\u001b[0m\u001b[0;34m[\u001b[0m\u001b[0;34m'freq'\u001b[0m\u001b[0;34m,\u001b[0m \u001b[0mi\u001b[0m\u001b[0;34m]\u001b[0m\u001b[0;34m]\u001b[0m\u001b[0;34m.\u001b[0m\u001b[0mcopy\u001b[0m\u001b[0;34m(\u001b[0m\u001b[0;34m)\u001b[0m\u001b[0;34m\u001b[0m\u001b[0m\n\u001b[0;32m---> 12\u001b[0;31m     \u001b[0mstructs\u001b[0m \u001b[0;34m=\u001b[0m \u001b[0mgaussian_fit\u001b[0m\u001b[0;34m(\u001b[0m\u001b[0mcurrent_df\u001b[0m\u001b[0;34m,\u001b[0m \u001b[0mcurrent_df\u001b[0m\u001b[0;34m.\u001b[0m\u001b[0mcolumns\u001b[0m\u001b[0;34m[\u001b[0m\u001b[0;36m1\u001b[0m\u001b[0;34m]\u001b[0m\u001b[0;34m,\u001b[0m \u001b[0mdirectory\u001b[0m\u001b[0;34m)\u001b[0m\u001b[0;34m\u001b[0m\u001b[0m\n\u001b[0m\u001b[1;32m     13\u001b[0m     \u001b[0mpct_turn\u001b[0m\u001b[0;34m,\u001b[0m \u001b[0mpct_helix\u001b[0m\u001b[0;34m,\u001b[0m \u001b[0mpct_unordered\u001b[0m\u001b[0;34m,\u001b[0m \u001b[0mpct_sheet\u001b[0m \u001b[0;34m=\u001b[0m \u001b[0mstructs\u001b[0m\u001b[0;34m\u001b[0m\u001b[0m\n\u001b[1;32m     14\u001b[0m     \u001b[0ms\u001b[0m \u001b[0;34m=\u001b[0m \u001b[0mcreate_plots\u001b[0m\u001b[0;34m(\u001b[0m\u001b[0mcurrent_df\u001b[0m\u001b[0;34m,\u001b[0m \u001b[0mdirectory\u001b[0m\u001b[0;34m)\u001b[0m\u001b[0;34m\u001b[0m\u001b[0m\n",
      "\u001b[0;32m~/Devel/ftir_data_analytics/ftir/modeling/peak_fitting.py\u001b[0m in \u001b[0;36mgaussian_fit\u001b[0;34m(ftir_df, d, folder_path)\u001b[0m\n\u001b[1;32m    206\u001b[0m     \"\"\"\n\u001b[1;32m    207\u001b[0m     \u001b[0;31m# Calls gaussian peak fitting function\u001b[0m\u001b[0;34m\u001b[0m\u001b[0;34m\u001b[0m\u001b[0m\n\u001b[0;32m--> 208\u001b[0;31m     \u001b[0mfit_data\u001b[0m \u001b[0;34m=\u001b[0m \u001b[0munderlying_gaussian\u001b[0m\u001b[0;34m(\u001b[0m\u001b[0mftir_df\u001b[0m\u001b[0;34m,\u001b[0m \u001b[0md\u001b[0m\u001b[0;34m)\u001b[0m\u001b[0;34m\u001b[0m\u001b[0m\n\u001b[0m\u001b[1;32m    209\u001b[0m     \u001b[0mxdata\u001b[0m\u001b[0;34m,\u001b[0m \u001b[0mydata\u001b[0m\u001b[0;34m,\u001b[0m \u001b[0mgausslist\u001b[0m\u001b[0;34m,\u001b[0m \u001b[0mresid\u001b[0m\u001b[0;34m,\u001b[0m \u001b[0mrsquared\u001b[0m\u001b[0;34m,\u001b[0m \u001b[0mcenters\u001b[0m\u001b[0;34m,\u001b[0m \u001b[0mareas\u001b[0m \u001b[0;34m=\u001b[0m \u001b[0mfit_data\u001b[0m\u001b[0;34m\u001b[0m\u001b[0m\n\u001b[1;32m    210\u001b[0m \u001b[0;34m\u001b[0m\u001b[0m\n",
      "\u001b[0;32m~/Devel/ftir_data_analytics/ftir/modeling/peak_fitting.py\u001b[0m in \u001b[0;36munderlying_gaussian\u001b[0;34m(df, col, freq)\u001b[0m\n\u001b[1;32m    116\u001b[0m     \u001b[0;31m# print(guess)\u001b[0m\u001b[0;34m\u001b[0m\u001b[0;34m\u001b[0m\u001b[0m\n\u001b[1;32m    117\u001b[0m     optim, cov, infodict, mesg, ier = optimize.leastsq(\n\u001b[0;32m--> 118\u001b[0;31m         errfunc, guess, args=(data[:, 0], data[:, 1]), full_output=True)\n\u001b[0m\u001b[1;32m    119\u001b[0m     \u001b[0mxdata\u001b[0m \u001b[0;34m=\u001b[0m \u001b[0mdata\u001b[0m\u001b[0;34m[\u001b[0m\u001b[0;34m:\u001b[0m\u001b[0;34m,\u001b[0m \u001b[0;36m0\u001b[0m\u001b[0;34m]\u001b[0m\u001b[0;34m\u001b[0m\u001b[0m\n\u001b[1;32m    120\u001b[0m     \u001b[0mydata\u001b[0m \u001b[0;34m=\u001b[0m \u001b[0mgaussian_sum\u001b[0m\u001b[0;34m(\u001b[0m\u001b[0mdata\u001b[0m\u001b[0;34m[\u001b[0m\u001b[0;34m:\u001b[0m\u001b[0;34m,\u001b[0m \u001b[0;36m0\u001b[0m\u001b[0;34m]\u001b[0m\u001b[0;34m,\u001b[0m \u001b[0;34m*\u001b[0m\u001b[0moptim\u001b[0m\u001b[0;34m)\u001b[0m\u001b[0;34m\u001b[0m\u001b[0m\n",
      "\u001b[0;32m~/anaconda3/envs/ftir_data_analytics/lib/python3.6/site-packages/scipy/optimize/minpack.py\u001b[0m in \u001b[0;36mleastsq\u001b[0;34m(func, x0, args, Dfun, full_output, col_deriv, ftol, xtol, gtol, maxfev, epsfcn, factor, diag)\u001b[0m\n\u001b[1;32m    392\u001b[0m         \u001b[0;32mwith\u001b[0m \u001b[0m_MINPACK_LOCK\u001b[0m\u001b[0;34m:\u001b[0m\u001b[0;34m\u001b[0m\u001b[0m\n\u001b[1;32m    393\u001b[0m             retval = _minpack._lmdif(func, x0, args, full_output, ftol, xtol,\n\u001b[0;32m--> 394\u001b[0;31m                                      gtol, maxfev, epsfcn, factor, diag)\n\u001b[0m\u001b[1;32m    395\u001b[0m     \u001b[0;32melse\u001b[0m\u001b[0;34m:\u001b[0m\u001b[0;34m\u001b[0m\u001b[0m\n\u001b[1;32m    396\u001b[0m         \u001b[0;32mif\u001b[0m \u001b[0mcol_deriv\u001b[0m\u001b[0;34m:\u001b[0m\u001b[0;34m\u001b[0m\u001b[0m\n",
      "\u001b[0;31mValueError\u001b[0m: The array returned by a function changed size between calls"
     ],
     "output_type": "error"
    }
   ],
   "source": [
    "structures = {}\n",
    "structures['File']=[]\n",
    "structures['Turn']=[]\n",
    "structures['α-Helix']=[]\n",
    "structures['Unordered']=[]\n",
    "structures['β-Sheet']=[] \n",
    "       \n",
    "num_files = len(raw_data_filename)\n",
    "\n",
    "for i in proteins:    \n",
    "    current_df = rawData_df[['freq', i]].copy()\n",
    "    structs = gaussian_fit(current_df, current_df.columns[1], directory)\n",
    "    pct_turn, pct_helix, pct_unordered, pct_sheet = structs\n",
    "    s = create_plots(current_df, directory)\n",
    "    d, pct_turn, pct_helix, pct_unordered, pct_sheet = s\n",
    "\n",
    "    structures['File'].append(d)\n",
    "    structures['Turn'].append(pct_turn)\n",
    "    structures['α-Helix'].append(pct_helix)\n",
    "    structures['Unordered'].append(pct_unordered) \n",
    "    structures['β-Sheet'].append(pct_sheet) \n",
    "\n",
    "\n",
    "struct_df = pd.DataFrame(structures)\n",
    "print(struct_df)\n",
    "struct_df.to_csv(directory + '/' + 'Gaussian fits for selected files.csv', encoding='utf-8-sig')\n",
    "\n",
    "print ('\\nDone!')"
   ]
  },
  {
   "cell_type": "code",
   "execution_count": null,
   "metadata": {},
   "outputs": [],
   "source": []
  }
 ],
 "metadata": {
  "kernelspec": {
   "display_name": "Python 3",
   "language": "python",
   "name": "python3"
  },
  "language_info": {
   "codemirror_mode": {
    "name": "ipython",
    "version": 3
   },
   "file_extension": ".py",
   "mimetype": "text/x-python",
   "name": "python",
   "nbconvert_exporter": "python",
   "pygments_lexer": "ipython3",
   "version": "3.6.6"
  }
 },
 "nbformat": 4,
 "nbformat_minor": 1
}
