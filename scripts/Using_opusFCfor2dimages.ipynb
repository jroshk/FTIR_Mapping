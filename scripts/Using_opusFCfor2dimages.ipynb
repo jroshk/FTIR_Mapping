{
 "cells": [
  {
   "cell_type": "markdown",
   "metadata": {},
   "source": [
    "### To determine the contents of a file:"
   ]
  },
  {
   "cell_type": "code",
   "execution_count": null,
   "metadata": {},
   "outputs": [],
   "source": [
    "f = /path/to/opusfile.0\n",
    "dbs = opusFC.listContents(f)\n",
    "print(dbs)"
   ]
  },
  {
   "cell_type": "markdown",
   "metadata": {},
   "source": [
    "### Load the first datablock in dbs: "
   ]
  },
  {
   "cell_type": "code",
   "execution_count": null,
   "metadata": {},
   "outputs": [],
   "source": [
    "data = opusFC.getOpusData(f, dbs[0])"
   ]
  },
  {
   "cell_type": "markdown",
   "metadata": {},
   "source": [
    "### Access loaded data and parameters:"
   ]
  },
  {
   "cell_type": "code",
   "execution_count": null,
   "metadata": {},
   "outputs": [],
   "source": [
    "data.x                    # X coordinates\n",
    "data.parameters['SNM']    # Sample name\n",
    "data.description          # Description of data object\n",
    "opusFC.paramDict['SNM']     # String description of SNM"
   ]
  },
  {
   "cell_type": "markdown",
   "metadata": {},
   "source": [
    "### Access and save visible images:"
   ]
  },
  {
   "cell_type": "code",
   "execution_count": null,
   "metadata": {},
   "outputs": [],
   "source": [
    "images = opusFC.getVisImages(f)\n",
    "\n",
    "for img in images:\n",
    "    data = img['image']\n",
    "    title = img['Title']\n",
    "    imgext = img['imgext']\n",
    "    f = \"{0}_{1}.{2}\".format(f, title, imgext)\n",
    "    with open(f, 'wb') as fd:\n",
    "        fd.write(data)"
   ]
  }
 ],
 "metadata": {
  "kernelspec": {
   "display_name": "Python 3.10.6 64-bit (windows store)",
   "language": "python",
   "name": "python3"
  },
  "language_info": {
   "name": "python",
   "version": "3.10.6"
  },
  "orig_nbformat": 4,
  "vscode": {
   "interpreter": {
    "hash": "af90aaef40638c737580a03d610711f82c000d1ae5838e95130263cdb959fb97"
   }
  }
 },
 "nbformat": 4,
 "nbformat_minor": 2
}
