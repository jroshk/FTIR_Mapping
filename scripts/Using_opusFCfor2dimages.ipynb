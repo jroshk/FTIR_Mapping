{
 "cells": [
  {
   "cell_type": "markdown",
   "metadata": {},
   "source": [
    "### To determine the contents of a file:"
   ]
  },
  {
   "cell_type": "code",
   "execution_count": 1,
   "metadata": {},
   "outputs": [
    {
     "name": "stdout",
     "output_type": "stream",
     "text": [
      "[('AB', '3D', 'NONE'), ('SSC', '3D', 'NONE'), ('RSC', '2D', 'NONE'), ('TRC', '3D', 'NONE')]\n"
     ]
    },
    {
     "data": {
      "text/plain": [
       "('SSC', '3D', 'NONE')"
      ]
     },
     "execution_count": 1,
     "metadata": {},
     "output_type": "execute_result"
    }
   ],
   "source": [
    "import opusFC\n",
    "import pandas as pd\n",
    "import matplotlib.pyplot as plt\n",
    "\n",
    "f = r\"R:\\Jeff\\FTIR\\Structural Mapping\\6.16.2022 UV Circles\\left circle 8x8.0\"\n",
    "dbs = opusFC.listContents(f)\n",
    "print(dbs)\n",
    "dbs[1]"
   ]
  },
  {
   "cell_type": "markdown",
   "metadata": {},
   "source": [
    "### Load the first datablock in dbs: "
   ]
  },
  {
   "cell_type": "code",
   "execution_count": 2,
   "metadata": {},
   "outputs": [
    {
     "data": {
      "text/plain": [
       "This object contains:\n",
       "\tdimension of file (.dimension)\n",
       "\tdata block type (.dataType)\n",
       "\tderivative type (.derivative)\n",
       "\tdictionary of parameters with parameter name then value (.parameters)\n",
       "\tspectrum x coordinates (.x)\n",
       "\tminimum and maximum y values (.minY and .maxY)\n",
       "\tlist of regions (.regions)\n",
       "\n",
       "\teach region is a Region object containing:\n",
       "\t\tdescription of region (title)\n",
       "\t\tx mapping coordinates array (mapX)\n",
       "\t\ty mapping coordinates array (mapY)\n",
       "\t\ttimestamps of spectrum acquisition array (start_time)\n",
       "\t\t2D array containing spectra in the region (spectra)\n",
       "\t\taccess a spectrum with\n",
       "\t\t\treturnedObject.regions[region index].spectra[row]"
      ]
     },
     "execution_count": 2,
     "metadata": {},
     "output_type": "execute_result"
    }
   ],
   "source": [
    "data = opusFC.getOpusData(f, dbs[1])\n",
    "data\n"
   ]
  },
  {
   "cell_type": "code",
   "execution_count": 3,
   "metadata": {},
   "outputs": [
    {
     "data": {
      "text/plain": [
       "array([[0.45977598, 0.45709765, 0.45452517, ..., 0.03659058, 0.03458279,\n",
       "        0.03256302],\n",
       "       [0.4601276 , 0.45743984, 0.45487684, ..., 0.03616006, 0.03408296,\n",
       "        0.03202186],\n",
       "       [0.44583243, 0.44317454, 0.44063598, ..., 0.03710095, 0.03506348,\n",
       "        0.03301638],\n",
       "       ...,\n",
       "       [0.41711947, 0.41455656, 0.41210702, ..., 0.03913495, 0.03704912,\n",
       "        0.03497604],\n",
       "       [0.41398948, 0.41140765, 0.4089783 , ..., 0.03786776, 0.03576127,\n",
       "        0.03368725],\n",
       "       [0.41648325, 0.4139319 , 0.41150194, ..., 0.03845468, 0.03636736,\n",
       "        0.03430095]], dtype=float32)"
      ]
     },
     "execution_count": 3,
     "metadata": {},
     "output_type": "execute_result"
    }
   ],
   "source": [
    "data.regions[0].spectra[:]"
   ]
  },
  {
   "cell_type": "markdown",
   "metadata": {},
   "source": [
    "#####This is the money part: extracting x and y data"
   ]
  },
  {
   "cell_type": "code",
   "execution_count": 19,
   "metadata": {},
   "outputs": [
    {
     "name": "stdout",
     "output_type": "stream",
     "text": [
      "21243.0\n",
      "27344.5\n"
     ]
    }
   ],
   "source": [
    "#make a dictionary of x-y location data\n",
    "xydict = {'x_coordinate':data.regions[0].mapX[:],'y coordinate':data.regions[0].mapY[:]}#,data.x:data.regions[0].spectra[:]}"
   ]
  },
  {
   "cell_type": "code",
   "execution_count": 5,
   "metadata": {},
   "outputs": [
    {
     "data": {
      "text/html": [
       "<div>\n",
       "<style scoped>\n",
       "    .dataframe tbody tr th:only-of-type {\n",
       "        vertical-align: middle;\n",
       "    }\n",
       "\n",
       "    .dataframe tbody tr th {\n",
       "        vertical-align: top;\n",
       "    }\n",
       "\n",
       "    .dataframe thead th {\n",
       "        text-align: right;\n",
       "    }\n",
       "</style>\n",
       "<table border=\"1\" class=\"dataframe\">\n",
       "  <thead>\n",
       "    <tr style=\"text-align: right;\">\n",
       "      <th></th>\n",
       "      <th>x_coordinate</th>\n",
       "      <th>y coordinate</th>\n",
       "    </tr>\n",
       "  </thead>\n",
       "  <tbody>\n",
       "    <tr>\n",
       "      <th>0</th>\n",
       "      <td>23794.0</td>\n",
       "      <td>21243.0</td>\n",
       "    </tr>\n",
       "    <tr>\n",
       "      <th>1</th>\n",
       "      <td>24977.5</td>\n",
       "      <td>21243.0</td>\n",
       "    </tr>\n",
       "    <tr>\n",
       "      <th>2</th>\n",
       "      <td>26161.0</td>\n",
       "      <td>21243.0</td>\n",
       "    </tr>\n",
       "  </tbody>\n",
       "</table>\n",
       "</div>"
      ],
      "text/plain": [
       "   x_coordinate  y coordinate\n",
       "0       23794.0       21243.0\n",
       "1       24977.5       21243.0\n",
       "2       26161.0       21243.0"
      ]
     },
     "execution_count": 5,
     "metadata": {},
     "output_type": "execute_result"
    }
   ],
   "source": [
    "#Make a loop or use a fancy 1 liner to take all of the X and Y data from here and then put it in a dataframe as the first 2 rows, or maybe the 2nd and 3rd rows \n",
    "# (probably best to have name/title of column, then x, then y, then data)\n",
    "xydataframe = pd.DataFrame(data=xydict)#[data.regions[0].mapX[:],data.regions[0].mapY[:]])\n",
    "xydataframe.head(3)"
   ]
  },
  {
   "cell_type": "code",
   "execution_count": 6,
   "metadata": {},
   "outputs": [
    {
     "data": {
      "text/plain": [
       "array([0.45977598, 0.45709765, 0.45452517, ..., 0.03659058, 0.03458279,\n",
       "       0.03256302], dtype=float32)"
      ]
     },
     "execution_count": 6,
     "metadata": {},
     "output_type": "execute_result"
    }
   ],
   "source": [
    "data.regions[0].spectra[0]"
   ]
  },
  {
   "cell_type": "code",
   "execution_count": 54,
   "metadata": {},
   "outputs": [
    {
     "data": {
      "text/html": [
       "<div>\n",
       "<style scoped>\n",
       "    .dataframe tbody tr th:only-of-type {\n",
       "        vertical-align: middle;\n",
       "    }\n",
       "\n",
       "    .dataframe tbody tr th {\n",
       "        vertical-align: top;\n",
       "    }\n",
       "\n",
       "    .dataframe thead th {\n",
       "        text-align: right;\n",
       "    }\n",
       "</style>\n",
       "<table border=\"1\" class=\"dataframe\">\n",
       "  <thead>\n",
       "    <tr style=\"text-align: right;\">\n",
       "      <th></th>\n",
       "      <th>3998.516413</th>\n",
       "      <th>3997.088371</th>\n",
       "      <th>3995.660329</th>\n",
       "      <th>3994.232288</th>\n",
       "      <th>3992.804246</th>\n",
       "      <th>3991.376205</th>\n",
       "      <th>3989.948163</th>\n",
       "      <th>3988.520122</th>\n",
       "      <th>3987.092080</th>\n",
       "      <th>3985.664038</th>\n",
       "      <th>...</th>\n",
       "      <th>612.629836</th>\n",
       "      <th>611.201794</th>\n",
       "      <th>609.773753</th>\n",
       "      <th>608.345711</th>\n",
       "      <th>606.917670</th>\n",
       "      <th>605.489628</th>\n",
       "      <th>604.061587</th>\n",
       "      <th>602.633545</th>\n",
       "      <th>601.205503</th>\n",
       "      <th>599.777462</th>\n",
       "    </tr>\n",
       "  </thead>\n",
       "  <tbody>\n",
       "    <tr>\n",
       "      <th>0</th>\n",
       "      <td>0.459776</td>\n",
       "      <td>0.457098</td>\n",
       "      <td>0.454525</td>\n",
       "      <td>0.453151</td>\n",
       "      <td>0.452703</td>\n",
       "      <td>0.453089</td>\n",
       "      <td>0.455120</td>\n",
       "      <td>0.458629</td>\n",
       "      <td>0.461486</td>\n",
       "      <td>0.461868</td>\n",
       "      <td>...</td>\n",
       "      <td>0.046596</td>\n",
       "      <td>0.045656</td>\n",
       "      <td>0.044418</td>\n",
       "      <td>0.043078</td>\n",
       "      <td>0.041655</td>\n",
       "      <td>0.040120</td>\n",
       "      <td>0.038445</td>\n",
       "      <td>0.036591</td>\n",
       "      <td>0.034583</td>\n",
       "      <td>0.032563</td>\n",
       "    </tr>\n",
       "    <tr>\n",
       "      <th>1</th>\n",
       "      <td>0.460128</td>\n",
       "      <td>0.457440</td>\n",
       "      <td>0.454877</td>\n",
       "      <td>0.453524</td>\n",
       "      <td>0.453092</td>\n",
       "      <td>0.453489</td>\n",
       "      <td>0.455538</td>\n",
       "      <td>0.459067</td>\n",
       "      <td>0.461931</td>\n",
       "      <td>0.462294</td>\n",
       "      <td>...</td>\n",
       "      <td>0.046092</td>\n",
       "      <td>0.045190</td>\n",
       "      <td>0.044033</td>\n",
       "      <td>0.042747</td>\n",
       "      <td>0.041327</td>\n",
       "      <td>0.039771</td>\n",
       "      <td>0.038067</td>\n",
       "      <td>0.036160</td>\n",
       "      <td>0.034083</td>\n",
       "      <td>0.032022</td>\n",
       "    </tr>\n",
       "    <tr>\n",
       "      <th>2</th>\n",
       "      <td>0.445832</td>\n",
       "      <td>0.443175</td>\n",
       "      <td>0.440636</td>\n",
       "      <td>0.439286</td>\n",
       "      <td>0.438834</td>\n",
       "      <td>0.439181</td>\n",
       "      <td>0.441139</td>\n",
       "      <td>0.444560</td>\n",
       "      <td>0.447362</td>\n",
       "      <td>0.447760</td>\n",
       "      <td>...</td>\n",
       "      <td>0.046972</td>\n",
       "      <td>0.046079</td>\n",
       "      <td>0.044927</td>\n",
       "      <td>0.043619</td>\n",
       "      <td>0.042175</td>\n",
       "      <td>0.040625</td>\n",
       "      <td>0.038960</td>\n",
       "      <td>0.037101</td>\n",
       "      <td>0.035063</td>\n",
       "      <td>0.033016</td>\n",
       "    </tr>\n",
       "  </tbody>\n",
       "</table>\n",
       "<p>3 rows × 2381 columns</p>\n",
       "</div>"
      ],
      "text/plain": [
       "   3998.516413  3997.088371  3995.660329  3994.232288  3992.804246  \\\n",
       "0     0.459776     0.457098     0.454525     0.453151     0.452703   \n",
       "1     0.460128     0.457440     0.454877     0.453524     0.453092   \n",
       "2     0.445832     0.443175     0.440636     0.439286     0.438834   \n",
       "\n",
       "   3991.376205  3989.948163  3988.520122  3987.092080  3985.664038  ...  \\\n",
       "0     0.453089     0.455120     0.458629     0.461486     0.461868  ...   \n",
       "1     0.453489     0.455538     0.459067     0.461931     0.462294  ...   \n",
       "2     0.439181     0.441139     0.444560     0.447362     0.447760  ...   \n",
       "\n",
       "   612.629836   611.201794   609.773753   608.345711   606.917670   \\\n",
       "0     0.046596     0.045656     0.044418     0.043078     0.041655   \n",
       "1     0.046092     0.045190     0.044033     0.042747     0.041327   \n",
       "2     0.046972     0.046079     0.044927     0.043619     0.042175   \n",
       "\n",
       "   605.489628   604.061587   602.633545   601.205503   599.777462   \n",
       "0     0.040120     0.038445     0.036591     0.034583     0.032563  \n",
       "1     0.039771     0.038067     0.036160     0.034083     0.032022  \n",
       "2     0.040625     0.038960     0.037101     0.035063     0.033016  \n",
       "\n",
       "[3 rows x 2381 columns]"
      ]
     },
     "execution_count": 54,
     "metadata": {},
     "output_type": "execute_result"
    }
   ],
   "source": [
    "#make dataframe of actual apectra\n",
    "\n",
    "spectra_df = pd.DataFrame(data.regions[0].spectra[:])\n",
    "#spectra_df\n",
    "spectra_df =spectra_df.transpose()\n",
    "labeledspectra_df = spectra_df.set_index(data.x)#what does drop do here? seemingly nothing\n",
    "#spectra_df['wavenumber'] = data.x\n",
    "\n",
    "tlabeledspectra_df = labeledspectra_df.transpose()\n",
    "\n",
    "tlabeledspectra_df.head(3)"
   ]
  },
  {
   "cell_type": "code",
   "execution_count": 140,
   "metadata": {},
   "outputs": [
    {
     "data": {
      "text/plain": [
       "3998.516413    0.460128\n",
       "3997.088371    0.457440\n",
       "3995.660329    0.454877\n",
       "3994.232288    0.453524\n",
       "3992.804246    0.453092\n",
       "                 ...   \n",
       "605.489628     0.039771\n",
       "604.061587     0.038067\n",
       "602.633545     0.036160\n",
       "601.205503     0.034083\n",
       "599.777462     0.032022\n",
       "Name: 1, Length: 2381, dtype: float64"
      ]
     },
     "execution_count": 140,
     "metadata": {},
     "output_type": "execute_result"
    }
   ],
   "source": [
    "complete_df.iloc[1][2:]"
   ]
  },
  {
   "cell_type": "code",
   "execution_count": 146,
   "metadata": {},
   "outputs": [
    {
     "data": {
      "image/png": "[encoded data removed]",
      "text/plain": [
       "<Figure size 432x288 with 1 Axes>"
      ]
     },
     "metadata": {
      "needs_background": "light"
     },
     "output_type": "display_data"
    },
    {
     "data": {
      "text/plain": [
       "[<matplotlib.lines.Line2D at 0x1ab21c1ad90>]"
      ]
     },
     "execution_count": 146,
     "metadata": {},
     "output_type": "execute_result"
    },
    {
     "data": {
      "image/png": "[encoded data removed]",
      "text/plain": [
       "<Figure size 432x288 with 1 Axes>"
      ]
     },
     "metadata": {
      "needs_background": "light"
     },
     "output_type": "display_data"
    }
   ],
   "source": [
    "#complete_df = xydataframe\n",
    "# for i in range(len(data.x)):\n",
    "#     complete_df = pd.concat(xydataframe, labeledspectra_df[1])\n",
    "\n",
    "twodfs = [xydataframe, tlabeledspectra_df]\n",
    "\n",
    "complete_df = pd.concat(twodfs, axis=1,join='inner')\n",
    "\n",
    "(complete_df.T).to_csv(r'C:\\Users\\jrosh\\Documents\\FTIR_Mapping\\Results\\test.csv')\n",
    "\n",
    "x = [key for key in complete_df.keys() if type(key) == float]\n",
    "complete_df[x]\n",
    "\n",
    "fig, ax = plt.subplots()    # create figure and axes\n",
    "for index, row in complete_df[x].iterrows(): \n",
    "    ax.plot(x, row)\n",
    "plt.show()\n",
    "#complete_df.keys(2::)\n",
    "\n",
    "\n",
    "\n",
    "plt.plot(x,complete_df.iloc[2][2:])"
   ]
  },
  {
   "cell_type": "code",
   "execution_count": 60,
   "metadata": {},
   "outputs": [
    {
     "data": {
      "text/plain": [
       "Index([ 3998.516412597656, 3997.0883710217286,  3995.660329445801,\n",
       "        3994.232287869873,  3992.804246293945, 3991.3762047180176,\n",
       "         3989.94816314209,  3988.520121566162,  3987.092079990234,\n",
       "       3985.6640384143066,\n",
       "       ...\n",
       "        612.6298360729975,  611.2017944970698,  609.7737529211422,\n",
       "        608.3457113452146,  606.9176697692869,  605.4896281933588,\n",
       "        604.0615866174312,  602.6335450415036,  601.2055034655759,\n",
       "        599.7774618896484],\n",
       "      dtype='object', length=2381)"
      ]
     },
     "execution_count": 60,
     "metadata": {},
     "output_type": "execute_result"
    }
   ],
   "source": [
    "complete_df.columns[2:]\n",
    "\n"
   ]
  },
  {
   "cell_type": "code",
   "execution_count": 73,
   "metadata": {},
   "outputs": [
    {
     "data": {
      "text/plain": [
       "3998.516413    0.441578\n",
       "3997.088371    0.438985\n",
       "3995.660329    0.436477\n",
       "3994.232288    0.435131\n",
       "3992.804246    0.434690\n",
       "                 ...   \n",
       "605.489628     0.039587\n",
       "604.061587     0.037973\n",
       "602.633545     0.036131\n",
       "601.205503     0.034086\n",
       "599.777462     0.032038\n",
       "Name: 3, Length: 2381, dtype: float64"
      ]
     },
     "execution_count": 73,
     "metadata": {},
     "output_type": "execute_result"
    }
   ],
   "source": [
    "complete_df.iterrows()\n",
    "complete_df.iloc[3,:][2:]"
   ]
  },
  {
   "cell_type": "code",
   "execution_count": 84,
   "metadata": {},
   "outputs": [
    {
     "ename": "KeyError",
     "evalue": "3",
     "output_type": "error",
     "traceback": [
      "\u001b[1;31m---------------------------------------------------------------------------\u001b[0m",
      "\u001b[1;31mKeyError\u001b[0m                                  Traceback (most recent call last)",
      "\u001b[1;32mc:\\Users\\jrosh\\anaconda3\\lib\\site-packages\\pandas\\core\\indexes\\base.py\u001b[0m in \u001b[0;36mget_loc\u001b[1;34m(self, key, method, tolerance)\u001b[0m\n\u001b[0;32m   3360\u001b[0m             \u001b[1;32mtry\u001b[0m\u001b[1;33m:\u001b[0m\u001b[1;33m\u001b[0m\u001b[1;33m\u001b[0m\u001b[0m\n\u001b[1;32m-> 3361\u001b[1;33m                 \u001b[1;32mreturn\u001b[0m \u001b[0mself\u001b[0m\u001b[1;33m.\u001b[0m\u001b[0m_engine\u001b[0m\u001b[1;33m.\u001b[0m\u001b[0mget_loc\u001b[0m\u001b[1;33m(\u001b[0m\u001b[0mcasted_key\u001b[0m\u001b[1;33m)\u001b[0m\u001b[1;33m\u001b[0m\u001b[1;33m\u001b[0m\u001b[0m\n\u001b[0m\u001b[0;32m   3362\u001b[0m             \u001b[1;32mexcept\u001b[0m \u001b[0mKeyError\u001b[0m \u001b[1;32mas\u001b[0m \u001b[0merr\u001b[0m\u001b[1;33m:\u001b[0m\u001b[1;33m\u001b[0m\u001b[1;33m\u001b[0m\u001b[0m\n",
      "\u001b[1;32mc:\\Users\\jrosh\\anaconda3\\lib\\site-packages\\pandas\\_libs\\index.pyx\u001b[0m in \u001b[0;36mpandas._libs.index.IndexEngine.get_loc\u001b[1;34m()\u001b[0m\n",
      "\u001b[1;32mc:\\Users\\jrosh\\anaconda3\\lib\\site-packages\\pandas\\_libs\\index.pyx\u001b[0m in \u001b[0;36mpandas._libs.index.IndexEngine.get_loc\u001b[1;34m()\u001b[0m\n",
      "\u001b[1;32mpandas\\_libs\\hashtable_class_helper.pxi\u001b[0m in \u001b[0;36mpandas._libs.hashtable.PyObjectHashTable.get_item\u001b[1;34m()\u001b[0m\n",
      "\u001b[1;32mpandas\\_libs\\hashtable_class_helper.pxi\u001b[0m in \u001b[0;36mpandas._libs.hashtable.PyObjectHashTable.get_item\u001b[1;34m()\u001b[0m\n",
      "\u001b[1;31mKeyError\u001b[0m: 3",
      "\nThe above exception was the direct cause of the following exception:\n",
      "\u001b[1;31mKeyError\u001b[0m                                  Traceback (most recent call last)",
      "\u001b[1;32m~\\AppData\\Local\\Temp/ipykernel_18396/1971265225.py\u001b[0m in \u001b[0;36m<module>\u001b[1;34m\u001b[0m\n\u001b[1;32m----> 1\u001b[1;33m \u001b[0mcomplete_df\u001b[0m\u001b[1;33m[\u001b[0m\u001b[1;36m3\u001b[0m\u001b[1;33m]\u001b[0m\u001b[1;33m\u001b[0m\u001b[1;33m\u001b[0m\u001b[0m\n\u001b[0m",
      "\u001b[1;32mc:\\Users\\jrosh\\anaconda3\\lib\\site-packages\\pandas\\core\\frame.py\u001b[0m in \u001b[0;36m__getitem__\u001b[1;34m(self, key)\u001b[0m\n\u001b[0;32m   3456\u001b[0m             \u001b[1;32mif\u001b[0m \u001b[0mself\u001b[0m\u001b[1;33m.\u001b[0m\u001b[0mcolumns\u001b[0m\u001b[1;33m.\u001b[0m\u001b[0mnlevels\u001b[0m \u001b[1;33m>\u001b[0m \u001b[1;36m1\u001b[0m\u001b[1;33m:\u001b[0m\u001b[1;33m\u001b[0m\u001b[1;33m\u001b[0m\u001b[0m\n\u001b[0;32m   3457\u001b[0m                 \u001b[1;32mreturn\u001b[0m \u001b[0mself\u001b[0m\u001b[1;33m.\u001b[0m\u001b[0m_getitem_multilevel\u001b[0m\u001b[1;33m(\u001b[0m\u001b[0mkey\u001b[0m\u001b[1;33m)\u001b[0m\u001b[1;33m\u001b[0m\u001b[1;33m\u001b[0m\u001b[0m\n\u001b[1;32m-> 3458\u001b[1;33m             \u001b[0mindexer\u001b[0m \u001b[1;33m=\u001b[0m \u001b[0mself\u001b[0m\u001b[1;33m.\u001b[0m\u001b[0mcolumns\u001b[0m\u001b[1;33m.\u001b[0m\u001b[0mget_loc\u001b[0m\u001b[1;33m(\u001b[0m\u001b[0mkey\u001b[0m\u001b[1;33m)\u001b[0m\u001b[1;33m\u001b[0m\u001b[1;33m\u001b[0m\u001b[0m\n\u001b[0m\u001b[0;32m   3459\u001b[0m             \u001b[1;32mif\u001b[0m \u001b[0mis_integer\u001b[0m\u001b[1;33m(\u001b[0m\u001b[0mindexer\u001b[0m\u001b[1;33m)\u001b[0m\u001b[1;33m:\u001b[0m\u001b[1;33m\u001b[0m\u001b[1;33m\u001b[0m\u001b[0m\n\u001b[0;32m   3460\u001b[0m                 \u001b[0mindexer\u001b[0m \u001b[1;33m=\u001b[0m \u001b[1;33m[\u001b[0m\u001b[0mindexer\u001b[0m\u001b[1;33m]\u001b[0m\u001b[1;33m\u001b[0m\u001b[1;33m\u001b[0m\u001b[0m\n",
      "\u001b[1;32mc:\\Users\\jrosh\\anaconda3\\lib\\site-packages\\pandas\\core\\indexes\\base.py\u001b[0m in \u001b[0;36mget_loc\u001b[1;34m(self, key, method, tolerance)\u001b[0m\n\u001b[0;32m   3361\u001b[0m                 \u001b[1;32mreturn\u001b[0m \u001b[0mself\u001b[0m\u001b[1;33m.\u001b[0m\u001b[0m_engine\u001b[0m\u001b[1;33m.\u001b[0m\u001b[0mget_loc\u001b[0m\u001b[1;33m(\u001b[0m\u001b[0mcasted_key\u001b[0m\u001b[1;33m)\u001b[0m\u001b[1;33m\u001b[0m\u001b[1;33m\u001b[0m\u001b[0m\n\u001b[0;32m   3362\u001b[0m             \u001b[1;32mexcept\u001b[0m \u001b[0mKeyError\u001b[0m \u001b[1;32mas\u001b[0m \u001b[0merr\u001b[0m\u001b[1;33m:\u001b[0m\u001b[1;33m\u001b[0m\u001b[1;33m\u001b[0m\u001b[0m\n\u001b[1;32m-> 3363\u001b[1;33m                 \u001b[1;32mraise\u001b[0m \u001b[0mKeyError\u001b[0m\u001b[1;33m(\u001b[0m\u001b[0mkey\u001b[0m\u001b[1;33m)\u001b[0m \u001b[1;32mfrom\u001b[0m \u001b[0merr\u001b[0m\u001b[1;33m\u001b[0m\u001b[1;33m\u001b[0m\u001b[0m\n\u001b[0m\u001b[0;32m   3364\u001b[0m \u001b[1;33m\u001b[0m\u001b[0m\n\u001b[0;32m   3365\u001b[0m         \u001b[1;32mif\u001b[0m \u001b[0mis_scalar\u001b[0m\u001b[1;33m(\u001b[0m\u001b[0mkey\u001b[0m\u001b[1;33m)\u001b[0m \u001b[1;32mand\u001b[0m \u001b[0misna\u001b[0m\u001b[1;33m(\u001b[0m\u001b[0mkey\u001b[0m\u001b[1;33m)\u001b[0m \u001b[1;32mand\u001b[0m \u001b[1;32mnot\u001b[0m \u001b[0mself\u001b[0m\u001b[1;33m.\u001b[0m\u001b[0mhasnans\u001b[0m\u001b[1;33m:\u001b[0m\u001b[1;33m\u001b[0m\u001b[1;33m\u001b[0m\u001b[0m\n",
      "\u001b[1;31mKeyError\u001b[0m: 3"
     ]
    }
   ],
   "source": [
    "complete_df[3]"
   ]
  },
  {
   "cell_type": "code",
   "execution_count": 88,
   "metadata": {},
   "outputs": [
    {
     "ename": "SyntaxError",
     "evalue": "invalid syntax (Temp/ipykernel_18396/3602723537.py, line 5)",
     "output_type": "error",
     "traceback": [
      "\u001b[1;36m  File \u001b[1;32m\"C:\\Users\\jrosh\\AppData\\Local\\Temp/ipykernel_18396/3602723537.py\"\u001b[1;36m, line \u001b[1;32m5\u001b[0m\n\u001b[1;33m    print(complete_df.loc[1,[2:]])\u001b[0m\n\u001b[1;37m                              ^\u001b[0m\n\u001b[1;31mSyntaxError\u001b[0m\u001b[1;31m:\u001b[0m invalid syntax\n"
     ]
    }
   ],
   "source": [
    "loc = list(map(float, complete_df.columns[2:]))\n",
    "\n",
    "\n",
    "print(len(complete_df.columns[2:]))\n",
    "print(len(loc))\n",
    "print(complete_df.loc[1,[2:]])\n",
    "\n",
    "fig, ax = plt.subplots()\n",
    "for row in complete_df.iterrows():\n",
    "    ax.scatter(row[1], loc, label=row[1].name)\n",
    "\n",
    "plt.legend()    \n",
    "plt.show()"
   ]
  },
  {
   "cell_type": "code",
   "execution_count": 70,
   "metadata": {},
   "outputs": [
    {
     "ename": "ValueError",
     "evalue": "x and y must be the same size",
     "output_type": "error",
     "traceback": [
      "\u001b[1;31m---------------------------------------------------------------------------\u001b[0m",
      "\u001b[1;31mValueError\u001b[0m                                Traceback (most recent call last)",
      "\u001b[1;32m~\\AppData\\Local\\Temp/ipykernel_18396/578122613.py\u001b[0m in \u001b[0;36m<module>\u001b[1;34m\u001b[0m\n\u001b[0;32m      3\u001b[0m \u001b[1;31m#     ax.scatter(row[1], complete_df.columns[2:] , label=row[1].name)\u001b[0m\u001b[1;33m\u001b[0m\u001b[1;33m\u001b[0m\u001b[0m\n\u001b[0;32m      4\u001b[0m \u001b[1;33m\u001b[0m\u001b[0m\n\u001b[1;32m----> 5\u001b[1;33m \u001b[0max\u001b[0m\u001b[1;33m.\u001b[0m\u001b[0mscatter\u001b[0m\u001b[1;33m(\u001b[0m\u001b[0mcomplete_df\u001b[0m\u001b[1;33m.\u001b[0m\u001b[0miloc\u001b[0m\u001b[1;33m[\u001b[0m\u001b[1;36m1\u001b[0m\u001b[1;33m,\u001b[0m\u001b[1;33m:\u001b[0m\u001b[1;33m]\u001b[0m\u001b[1;33m,\u001b[0m \u001b[0mcomplete_df\u001b[0m\u001b[1;33m.\u001b[0m\u001b[0mcolumns\u001b[0m\u001b[1;33m[\u001b[0m\u001b[1;36m2\u001b[0m\u001b[1;33m:\u001b[0m\u001b[1;33m]\u001b[0m \u001b[1;33m,\u001b[0m \u001b[0mlabel\u001b[0m\u001b[1;33m=\u001b[0m\u001b[0mrow\u001b[0m\u001b[1;33m[\u001b[0m\u001b[1;36m1\u001b[0m\u001b[1;33m]\u001b[0m\u001b[1;33m.\u001b[0m\u001b[0mname\u001b[0m\u001b[1;33m)\u001b[0m\u001b[1;33m\u001b[0m\u001b[1;33m\u001b[0m\u001b[0m\n\u001b[0m\u001b[0;32m      6\u001b[0m \u001b[0mcomplete_df\u001b[0m\u001b[1;33m.\u001b[0m\u001b[0miloc\u001b[0m\u001b[1;33m[\u001b[0m\u001b[1;36m1\u001b[0m\u001b[1;33m,\u001b[0m\u001b[1;33m:\u001b[0m\u001b[1;33m]\u001b[0m\u001b[1;33m\u001b[0m\u001b[1;33m\u001b[0m\u001b[0m\n\u001b[0;32m      7\u001b[0m \u001b[1;33m\u001b[0m\u001b[0m\n",
      "\u001b[1;32mc:\\Users\\jrosh\\anaconda3\\lib\\site-packages\\matplotlib\\__init__.py\u001b[0m in \u001b[0;36minner\u001b[1;34m(ax, data, *args, **kwargs)\u001b[0m\n\u001b[0;32m   1359\u001b[0m     \u001b[1;32mdef\u001b[0m \u001b[0minner\u001b[0m\u001b[1;33m(\u001b[0m\u001b[0max\u001b[0m\u001b[1;33m,\u001b[0m \u001b[1;33m*\u001b[0m\u001b[0margs\u001b[0m\u001b[1;33m,\u001b[0m \u001b[0mdata\u001b[0m\u001b[1;33m=\u001b[0m\u001b[1;32mNone\u001b[0m\u001b[1;33m,\u001b[0m \u001b[1;33m**\u001b[0m\u001b[0mkwargs\u001b[0m\u001b[1;33m)\u001b[0m\u001b[1;33m:\u001b[0m\u001b[1;33m\u001b[0m\u001b[1;33m\u001b[0m\u001b[0m\n\u001b[0;32m   1360\u001b[0m         \u001b[1;32mif\u001b[0m \u001b[0mdata\u001b[0m \u001b[1;32mis\u001b[0m \u001b[1;32mNone\u001b[0m\u001b[1;33m:\u001b[0m\u001b[1;33m\u001b[0m\u001b[1;33m\u001b[0m\u001b[0m\n\u001b[1;32m-> 1361\u001b[1;33m             \u001b[1;32mreturn\u001b[0m \u001b[0mfunc\u001b[0m\u001b[1;33m(\u001b[0m\u001b[0max\u001b[0m\u001b[1;33m,\u001b[0m \u001b[1;33m*\u001b[0m\u001b[0mmap\u001b[0m\u001b[1;33m(\u001b[0m\u001b[0msanitize_sequence\u001b[0m\u001b[1;33m,\u001b[0m \u001b[0margs\u001b[0m\u001b[1;33m)\u001b[0m\u001b[1;33m,\u001b[0m \u001b[1;33m**\u001b[0m\u001b[0mkwargs\u001b[0m\u001b[1;33m)\u001b[0m\u001b[1;33m\u001b[0m\u001b[1;33m\u001b[0m\u001b[0m\n\u001b[0m\u001b[0;32m   1362\u001b[0m \u001b[1;33m\u001b[0m\u001b[0m\n\u001b[0;32m   1363\u001b[0m         \u001b[0mbound\u001b[0m \u001b[1;33m=\u001b[0m \u001b[0mnew_sig\u001b[0m\u001b[1;33m.\u001b[0m\u001b[0mbind\u001b[0m\u001b[1;33m(\u001b[0m\u001b[0max\u001b[0m\u001b[1;33m,\u001b[0m \u001b[1;33m*\u001b[0m\u001b[0margs\u001b[0m\u001b[1;33m,\u001b[0m \u001b[1;33m**\u001b[0m\u001b[0mkwargs\u001b[0m\u001b[1;33m)\u001b[0m\u001b[1;33m\u001b[0m\u001b[1;33m\u001b[0m\u001b[0m\n",
      "\u001b[1;32mc:\\Users\\jrosh\\anaconda3\\lib\\site-packages\\matplotlib\\axes\\_axes.py\u001b[0m in \u001b[0;36mscatter\u001b[1;34m(self, x, y, s, c, marker, cmap, norm, vmin, vmax, alpha, linewidths, edgecolors, plotnonfinite, **kwargs)\u001b[0m\n\u001b[0;32m   4496\u001b[0m         \u001b[0my\u001b[0m \u001b[1;33m=\u001b[0m \u001b[0mnp\u001b[0m\u001b[1;33m.\u001b[0m\u001b[0mma\u001b[0m\u001b[1;33m.\u001b[0m\u001b[0mravel\u001b[0m\u001b[1;33m(\u001b[0m\u001b[0my\u001b[0m\u001b[1;33m)\u001b[0m\u001b[1;33m\u001b[0m\u001b[1;33m\u001b[0m\u001b[0m\n\u001b[0;32m   4497\u001b[0m         \u001b[1;32mif\u001b[0m \u001b[0mx\u001b[0m\u001b[1;33m.\u001b[0m\u001b[0msize\u001b[0m \u001b[1;33m!=\u001b[0m \u001b[0my\u001b[0m\u001b[1;33m.\u001b[0m\u001b[0msize\u001b[0m\u001b[1;33m:\u001b[0m\u001b[1;33m\u001b[0m\u001b[1;33m\u001b[0m\u001b[0m\n\u001b[1;32m-> 4498\u001b[1;33m             \u001b[1;32mraise\u001b[0m \u001b[0mValueError\u001b[0m\u001b[1;33m(\u001b[0m\u001b[1;34m\"x and y must be the same size\"\u001b[0m\u001b[1;33m)\u001b[0m\u001b[1;33m\u001b[0m\u001b[1;33m\u001b[0m\u001b[0m\n\u001b[0m\u001b[0;32m   4499\u001b[0m \u001b[1;33m\u001b[0m\u001b[0m\n\u001b[0;32m   4500\u001b[0m         \u001b[1;32mif\u001b[0m \u001b[0ms\u001b[0m \u001b[1;32mis\u001b[0m \u001b[1;32mNone\u001b[0m\u001b[1;33m:\u001b[0m\u001b[1;33m\u001b[0m\u001b[1;33m\u001b[0m\u001b[0m\n",
      "\u001b[1;31mValueError\u001b[0m: x and y must be the same size"
     ]
    },
    {
     "data": {
      "image/png": "[encoded data removed]",
      "text/plain": [
       "<Figure size 432x288 with 1 Axes>"
      ]
     },
     "metadata": {
      "needs_background": "light"
     },
     "output_type": "display_data"
    }
   ],
   "source": [
    "fig, ax = plt.subplots()\n",
    "# for row in complete_df.iterrows():\n",
    "#     ax.scatter(row[1], complete_df.columns[2:] , label=row[1].name)\n",
    "\n",
    "ax.scatter(complete_df.iloc[1,:], complete_df.columns[2:] , label=row[1].name)\n",
    "complete_df.iloc[1,:]\n",
    "\n",
    "plt.legend()    \n",
    "plt.show()"
   ]
  },
  {
   "cell_type": "markdown",
   "metadata": {},
   "source": [
    "### Access loaded data and parameters:"
   ]
  },
  {
   "cell_type": "code",
   "execution_count": null,
   "metadata": {},
   "outputs": [],
   "source": [
    "data.x                    # X coordinates\n",
    "data.parameters['SNM']    # Sample name\n",
    "data.description          # Description of data object\n",
    "opusFC.paramDict['SNM']     # String description of SNM"
   ]
  },
  {
   "cell_type": "code",
   "execution_count": null,
   "metadata": {},
   "outputs": [],
   "source": []
  },
  {
   "cell_type": "markdown",
   "metadata": {},
   "source": [
    "### Access and save visible images:"
   ]
  },
  {
   "cell_type": "code",
   "execution_count": null,
   "metadata": {},
   "outputs": [],
   "source": [
    "images = opusFC.getVisImages(f)\n",
    "\n",
    "for img in images:\n",
    "    data = img['image']\n",
    "    title = img['Title']\n",
    "    imgext = img['imgext']\n",
    "    f = \"{0}_{1}.{2}\".format(f, title, imgext)\n",
    "    with open(f, 'wb') as fd:\n",
    "        fd.write(data)"
   ]
  },
  {
   "cell_type": "code",
   "execution_count": null,
   "metadata": {},
   "outputs": [],
   "source": [
    "d_db = pd.DataFrame()\n",
    "bt = tuple()\n",
    "for things in dbs:\n",
    "    print(opusFC.getOpusData(f,things))"
   ]
  },
  {
   "cell_type": "code",
   "execution_count": null,
   "metadata": {},
   "outputs": [],
   "source": [
    "d"
   ]
  },
  {
   "cell_type": "code",
   "execution_count": null,
   "metadata": {},
   "outputs": [],
   "source": [
    "opusFC.MultiRegionTRCDataReturn(labels, regions, **kwds)"
   ]
  },
  {
   "cell_type": "code",
   "execution_count": null,
   "metadata": {},
   "outputs": [],
   "source": []
  }
 ],
 "metadata": {
  "kernelspec": {
   "display_name": "Python 3.9.7 ('base')",
   "language": "python",
   "name": "python3"
  },
  "language_info": {
   "codemirror_mode": {
    "name": "ipython",
    "version": 3
   },
   "file_extension": ".py",
   "mimetype": "text/x-python",
   "name": "python",
   "nbconvert_exporter": "python",
   "pygments_lexer": "ipython3",
   "version": "3.9.7"
  },
  "orig_nbformat": 4,
  "vscode": {
   "interpreter": {
    "hash": "1a8ea5ae0aab33bbee0ebb06e8cdde650700993b43495131d0ae48b12915ec01"
   }
  }
 },
 "nbformat": 4,
 "nbformat_minor": 2
}
